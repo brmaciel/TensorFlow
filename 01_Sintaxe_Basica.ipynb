{
 "cells": [
  {
   "cell_type": "code",
   "execution_count": 1,
   "metadata": {},
   "outputs": [],
   "source": [
    "import tensorflow as tf2"
   ]
  },
  {
   "cell_type": "code",
   "execution_count": 2,
   "metadata": {},
   "outputs": [
    {
     "data": {
      "text/plain": [
       "'2.1.0'"
      ]
     },
     "execution_count": 2,
     "metadata": {},
     "output_type": "execute_result"
    }
   ],
   "source": [
    "tf2.__version__"
   ]
  },
  {
   "cell_type": "code",
   "execution_count": 3,
   "metadata": {},
   "outputs": [
    {
     "name": "stdout",
     "output_type": "stream",
     "text": [
      "WARNING:tensorflow:From /Users/brunomaciel/opt/anaconda3/lib/python3.7/site-packages/tensorflow_core/python/compat/v2_compat.py:88: disable_resource_variables (from tensorflow.python.ops.variable_scope) is deprecated and will be removed in a future version.\n",
      "Instructions for updating:\n",
      "non-resource variables are not supported in the long term\n"
     ]
    }
   ],
   "source": [
    "# Adaptação para utilizar a sintaxe do TensorFlor 1.x no TensorFlow 2.x\n",
    "import tensorflow.compat.v1 as tf\n",
    "tf.disable_v2_behavior()"
   ]
  },
  {
   "cell_type": "code",
   "execution_count": 4,
   "metadata": {},
   "outputs": [],
   "source": [
    "import pandas as pd\n",
    "import numpy as np\n",
    "import matplotlib.pyplot as plt\n",
    "from sklearn.preprocessing import StandardScaler, MinMaxScaler\n",
    "from sklearn.model_selection import train_test_split\n",
    "from sklearn.metrics import accuracy_score, mean_absolute_error"
   ]
  },
  {
   "cell_type": "markdown",
   "metadata": {},
   "source": [
    "<br/><br/>\n",
    "## 1. Sintaxe Básica"
   ]
  },
  {
   "cell_type": "markdown",
   "metadata": {},
   "source": [
    "### 1.1 Constantes"
   ]
  },
  {
   "cell_type": "code",
   "execution_count": 5,
   "metadata": {},
   "outputs": [
    {
     "name": "stdout",
     "output_type": "stream",
     "text": [
      "Tensor(\"Const:0\", shape=(), dtype=int32)\n"
     ]
    }
   ],
   "source": [
    "# Definir constantes\n",
    "const1 = tf.constant(2)\n",
    "const2 = tf.constant(3)\n",
    "print(const1)"
   ]
  },
  {
   "cell_type": "code",
   "execution_count": 6,
   "metadata": {},
   "outputs": [
    {
     "data": {
      "text/plain": [
       "tensorflow.python.framework.ops.Tensor"
      ]
     },
     "execution_count": 6,
     "metadata": {},
     "output_type": "execute_result"
    }
   ],
   "source": [
    "# Visualizar tipo da variável\n",
    "type(const1)"
   ]
  },
  {
   "cell_type": "code",
   "execution_count": 7,
   "metadata": {},
   "outputs": [
    {
     "data": {
      "text/plain": [
       "tensorflow.python.framework.ops.Tensor"
      ]
     },
     "execution_count": 7,
     "metadata": {},
     "output_type": "execute_result"
    }
   ],
   "source": [
    "soma = const1 + const2\n",
    "type(soma)"
   ]
  },
  {
   "cell_type": "code",
   "execution_count": 8,
   "metadata": {},
   "outputs": [
    {
     "name": "stdout",
     "output_type": "stream",
     "text": [
      "Const1 = 2\n",
      "Const2 = 3\n",
      "Soma = 5\n"
     ]
    }
   ],
   "source": [
    "# Para executar o fluxo dos tensores que compõem o grafo, é necessário sempre iniciar uma sessão\n",
    "with tf.Session() as sess:\n",
    "    s = sess.run(soma)\n",
    "    print('Const1 =', const1.eval())\n",
    "    print('Const2 =', const2.eval())\n",
    "    print('Soma =', s)"
   ]
  },
  {
   "cell_type": "code",
   "execution_count": 9,
   "metadata": {},
   "outputs": [],
   "source": [
    "string1 = tf.constant('texto 1 ')\n",
    "string2 = tf.constant('texto 2')"
   ]
  },
  {
   "cell_type": "code",
   "execution_count": 10,
   "metadata": {},
   "outputs": [],
   "source": [
    "concat = string1 + string2"
   ]
  },
  {
   "cell_type": "code",
   "execution_count": 11,
   "metadata": {},
   "outputs": [
    {
     "name": "stdout",
     "output_type": "stream",
     "text": [
      "b'texto 1 texto 2'\n"
     ]
    }
   ],
   "source": [
    "with tf.Session() as sess:\n",
    "    s = sess.run(concat)\n",
    "    print(s)"
   ]
  },
  {
   "cell_type": "markdown",
   "metadata": {},
   "source": [
    "<br/> \n",
    "### 1.2 Variáveis"
   ]
  },
  {
   "cell_type": "code",
   "execution_count": 12,
   "metadata": {},
   "outputs": [
    {
     "name": "stdout",
     "output_type": "stream",
     "text": [
      "<tf.Variable 'variable1:0' shape=() dtype=int32_ref>\n"
     ]
    }
   ],
   "source": [
    "# Definir variaveis\n",
    "var1 = tf.Variable(5, name='variable1')\n",
    "print(var1)"
   ]
  },
  {
   "cell_type": "code",
   "execution_count": 13,
   "metadata": {},
   "outputs": [
    {
     "name": "stdout",
     "output_type": "stream",
     "text": [
      "WARNING:tensorflow:From /Users/brunomaciel/opt/anaconda3/lib/python3.7/site-packages/tensorflow_core/python/ops/variables.py:2826: Variable.initialized_value (from tensorflow.python.ops.variables) is deprecated and will be removed in a future version.\n",
      "Instructions for updating:\n",
      "Use Variable.read_value. Variables in 2.X are initialized automatically both in eager and graph (inside tf.defun) contexts.\n",
      "<tf.Variable 'soma5:0' shape=() dtype=int32_ref>\n"
     ]
    }
   ],
   "source": [
    "soma = tf.Variable(var1 + 5, name='soma5')\n",
    "print(soma)"
   ]
  },
  {
   "cell_type": "code",
   "execution_count": 14,
   "metadata": {},
   "outputs": [
    {
     "name": "stdout",
     "output_type": "stream",
     "text": [
      "Variable1 = 5\n",
      "Soma 5 = 10\n"
     ]
    }
   ],
   "source": [
    "# É necessário inicializar as variáveis antes de iniciar a sessão\n",
    "var_init = tf.global_variables_initializer()\n",
    "with tf.Session() as sess:\n",
    "    sess.run(var_init)\n",
    "    s = sess.run(soma)\n",
    "    \n",
    "    print('Variable1 =', var1.eval())\n",
    "    print('Soma 5 =', s)"
   ]
  },
  {
   "cell_type": "code",
   "execution_count": 15,
   "metadata": {},
   "outputs": [],
   "source": [
    "vetor1 = tf.constant([3,5,7], name='vetor1')"
   ]
  },
  {
   "cell_type": "code",
   "execution_count": 16,
   "metadata": {},
   "outputs": [],
   "source": [
    "soma_vetor = tf.Variable(vetor1 + 5, name='somaVetor')"
   ]
  },
  {
   "cell_type": "code",
   "execution_count": 17,
   "metadata": {},
   "outputs": [
    {
     "name": "stdout",
     "output_type": "stream",
     "text": [
      "Vetor  = [3 5 7]\n",
      "Soma 5 = [ 8 10 12]\n"
     ]
    }
   ],
   "source": [
    "var_init = tf.global_variables_initializer()\n",
    "with tf.Session() as sess:\n",
    "    sess.run(var_init)\n",
    "    s = sess.run(soma_vetor)\n",
    "    \n",
    "    print('Vetor  =', vetor1.eval())\n",
    "    print('Soma 5 =', s)"
   ]
  },
  {
   "cell_type": "markdown",
   "metadata": {},
   "source": [
    "<br/> \n",
    "### 1.3 Adição de Vetores/Matrizes"
   ]
  },
  {
   "cell_type": "code",
   "execution_count": 18,
   "metadata": {},
   "outputs": [],
   "source": [
    "vetorA = tf.constant([9, 8, 7], name='vetorA')\n",
    "vetorB = tf.constant([1, 2, 3], name='vetorB')"
   ]
  },
  {
   "cell_type": "code",
   "execution_count": 19,
   "metadata": {},
   "outputs": [],
   "source": [
    "soma_vetor = vetorA + vetorB"
   ]
  },
  {
   "cell_type": "code",
   "execution_count": 20,
   "metadata": {},
   "outputs": [
    {
     "name": "stdout",
     "output_type": "stream",
     "text": [
      "[10 10 10]\n"
     ]
    }
   ],
   "source": [
    "with tf.Session() as sess:\n",
    "    s = sess.run(soma_vetor)\n",
    "    print(s)"
   ]
  },
  {
   "cell_type": "code",
   "execution_count": 21,
   "metadata": {},
   "outputs": [],
   "source": [
    "matrizA = tf.constant([[1,2,3], [4,5,6]], name='matrizA')\n",
    "matrizB = tf.constant([[1,2,3], [4,5,6]], name='matrizB')"
   ]
  },
  {
   "cell_type": "code",
   "execution_count": 22,
   "metadata": {},
   "outputs": [],
   "source": [
    "soma_matriz = tf.add(matrizA, matrizB)"
   ]
  },
  {
   "cell_type": "code",
   "execution_count": 23,
   "metadata": {},
   "outputs": [
    {
     "name": "stdout",
     "output_type": "stream",
     "text": [
      "[[ 2  4  6]\n",
      " [ 8 10 12]]\n"
     ]
    }
   ],
   "source": [
    "with tf.Session() as sess:\n",
    "    s = sess.run(soma_matriz)\n",
    "    print(s)"
   ]
  },
  {
   "cell_type": "code",
   "execution_count": 24,
   "metadata": {},
   "outputs": [],
   "source": [
    "matrizB2 = tf.constant([[1], [10]])\n",
    "soma_matriz2 = tf.add(matrizA, matrizB2)"
   ]
  },
  {
   "cell_type": "code",
   "execution_count": 25,
   "metadata": {},
   "outputs": [
    {
     "name": "stdout",
     "output_type": "stream",
     "text": [
      "[[1 2 3]\n",
      " [4 5 6]] \n",
      "\n",
      "[[ 1]\n",
      " [10]] \n",
      "\n",
      "[[ 2  3  4]\n",
      " [14 15 16]]\n"
     ]
    }
   ],
   "source": [
    "with tf.Session() as sess:\n",
    "    s = sess.run(soma_matriz2)\n",
    "    print(sess.run(matrizA), '\\n')\n",
    "    print(sess.run(matrizB2), '\\n')\n",
    "    print(s)"
   ]
  },
  {
   "cell_type": "markdown",
   "metadata": {},
   "source": [
    "<br/> \n",
    "### 1.4 Multiplicação (Dot Product)"
   ]
  },
  {
   "cell_type": "code",
   "execution_count": 26,
   "metadata": {},
   "outputs": [],
   "source": [
    "vetorA = tf.constant([[1,2], [3,4]])\n",
    "vetorB = tf.constant([[-1, 3], [4, 2]])"
   ]
  },
  {
   "cell_type": "code",
   "execution_count": 27,
   "metadata": {},
   "outputs": [],
   "source": [
    "dot_product = tf.multiply(matrizA, matrizB)"
   ]
  },
  {
   "cell_type": "code",
   "execution_count": 28,
   "metadata": {},
   "outputs": [
    {
     "name": "stdout",
     "output_type": "stream",
     "text": [
      "[[1 2]\n",
      " [3 4]] \n",
      "\n",
      "[[-1  3]\n",
      " [ 4  2]] \n",
      "\n",
      "[[ 1  4  9]\n",
      " [16 25 36]] \n",
      "\n",
      "91\n"
     ]
    }
   ],
   "source": [
    "with tf.Session() as sess:\n",
    "    s = sess.run(dot_product)\n",
    "    print(sess.run(vetorA), '\\n')\n",
    "    print(sess.run(vetorB), '\\n')\n",
    "    print(s, '\\n')\n",
    "    print(sess.run(tf.reduce_sum(dot_product))) # soma de todos os elementos da matriz resultante"
   ]
  },
  {
   "cell_type": "markdown",
   "metadata": {},
   "source": [
    "### 1.5 Multiplicação de Matrizes"
   ]
  },
  {
   "cell_type": "code",
   "execution_count": 29,
   "metadata": {},
   "outputs": [],
   "source": [
    "matrizA = tf.constant([[1,2], [3,4]])\n",
    "matrizB = tf.constant([[-1, 3], [4, 2]])"
   ]
  },
  {
   "cell_type": "code",
   "execution_count": 30,
   "metadata": {},
   "outputs": [],
   "source": [
    "mult_matriz = tf.matmul(matrizA, matrizB)"
   ]
  },
  {
   "cell_type": "code",
   "execution_count": 31,
   "metadata": {},
   "outputs": [
    {
     "name": "stdout",
     "output_type": "stream",
     "text": [
      "[[1 2]\n",
      " [3 4]] \n",
      "\n",
      "[[-1  3]\n",
      " [ 4  2]] \n",
      "\n",
      "[[ 7  7]\n",
      " [13 17]]\n"
     ]
    }
   ],
   "source": [
    "with tf.Session() as sess:\n",
    "    s = sess.run(mult_matriz)\n",
    "    print(sess.run(matrizA), '\\n')\n",
    "    print(sess.run(matrizB), '\\n')\n",
    "    print(s)"
   ]
  },
  {
   "cell_type": "markdown",
   "metadata": {},
   "source": [
    "<br/> \n",
    "### 1.6 Placeholders"
   ]
  },
  {
   "cell_type": "code",
   "execution_count": 32,
   "metadata": {},
   "outputs": [],
   "source": [
    "# Variável que não contém dados inicialmente. É inicializado somente com o tipo de dado esperado\n",
    "pholder = tf.placeholder('float', shape=None) # shape=None, placeholder admite qualquer dimensão\n",
    "pholder2 = tf.placeholder('float', shape=(None, 3))"
   ]
  },
  {
   "cell_type": "code",
   "execution_count": 33,
   "metadata": {},
   "outputs": [],
   "source": [
    "operacao = pholder + 2\n",
    "operacao2 = pholder2 * 5"
   ]
  },
  {
   "cell_type": "code",
   "execution_count": 34,
   "metadata": {},
   "outputs": [
    {
     "name": "stdout",
     "output_type": "stream",
     "text": [
      "[[3. 4.]\n",
      " [5. 6.]] \n",
      "\n",
      "[[ 5. 10. 15.]\n",
      " [20. 25. 30.]]\n"
     ]
    }
   ],
   "source": [
    "# feed_dict alimenta o placeholder com valores\n",
    "with tf.Session() as sess:\n",
    "    resultado1 = sess.run(operacao, feed_dict={pholder : [[1, 2], [3, 4]]})\n",
    "    resultado2 = sess.run(operacao2, feed_dict={pholder2 : [[1, 2, 3], [4, 5, 6]]})\n",
    "    print(resultado1, '\\n')\n",
    "    print(resultado2)"
   ]
  },
  {
   "cell_type": "markdown",
   "metadata": {},
   "source": [
    "<br/> \n",
    "### 1.7 Grafos e TensorBoard"
   ]
  },
  {
   "cell_type": "code",
   "execution_count": 35,
   "metadata": {},
   "outputs": [],
   "source": [
    "# Reseta os grafos de outras sessões\n",
    "tf.reset_default_graph()"
   ]
  },
  {
   "cell_type": "code",
   "execution_count": 36,
   "metadata": {},
   "outputs": [],
   "source": [
    "a = tf.add(2, 2, name='add')\n",
    "b = tf.multiply(a, 3, name='mult1')\n",
    "c = tf.multiply(b, a, name='mult2')"
   ]
  },
  {
   "cell_type": "code",
   "execution_count": 37,
   "metadata": {},
   "outputs": [],
   "source": [
    "# Definir escopos para tornar o grafo mais organizado\n",
    "with tf.name_scope('Operacoes'):\n",
    "    with tf.name_scope('Escopo_A'):\n",
    "        a = tf.add(2, 2, name='add')\n",
    "    with tf.name_scope('Escopo_B'):\n",
    "        b = tf.multiply(a, 3, name='mult1')\n",
    "        c = tf.multiply(b, a, name='mult2')"
   ]
  },
  {
   "cell_type": "code",
   "execution_count": 38,
   "metadata": {},
   "outputs": [
    {
     "name": "stdout",
     "output_type": "stream",
     "text": [
      "48\n"
     ]
    }
   ],
   "source": [
    "with tf.Session() as sess:\n",
    "    print(sess.run(c))\n",
    "    \n",
    "    # Cria o grafo referente a operação. Grafo pode ser visualizado utilizando o Tensor Board\n",
    "    writer = tf.summary.FileWriter('output', sess.graph)\n",
    "    writer.close()"
   ]
  },
  {
   "cell_type": "code",
   "execution_count": 39,
   "metadata": {},
   "outputs": [],
   "source": [
    "# Para visualizar o grafo:\n",
    "# Abrir terminal\n",
    "# digitar: tensorboard --logdir=[diretorio_do_arquivo]\n",
    "# abrir o endereço http gerado no navegador"
   ]
  },
  {
   "cell_type": "code",
   "execution_count": 40,
   "metadata": {},
   "outputs": [
    {
     "data": {
      "text/plain": [
       "<tensorflow.python.framework.ops.Graph at 0x635af48d0>"
      ]
     },
     "execution_count": 40,
     "metadata": {},
     "output_type": "execute_result"
    }
   ],
   "source": [
    "tf.get_default_graph()"
   ]
  },
  {
   "cell_type": "code",
   "execution_count": 41,
   "metadata": {},
   "outputs": [],
   "source": [
    "# Cria um novo grafo\n",
    "# É possível fazer com que cada máquina fique responsável por processar um determinado grafo\n",
    "grafo2 = tf.Graph()"
   ]
  },
  {
   "cell_type": "code",
   "execution_count": 42,
   "metadata": {},
   "outputs": [
    {
     "name": "stdout",
     "output_type": "stream",
     "text": [
      "True\n"
     ]
    }
   ],
   "source": [
    "with grafo2.as_default():\n",
    "    print(grafo2 is tf.get_default_graph())"
   ]
  }
 ],
 "metadata": {
  "kernelspec": {
   "display_name": "Python 3",
   "language": "python",
   "name": "python3"
  },
  "language_info": {
   "codemirror_mode": {
    "name": "ipython",
    "version": 3
   },
   "file_extension": ".py",
   "mimetype": "text/x-python",
   "name": "python",
   "nbconvert_exporter": "python",
   "pygments_lexer": "ipython3",
   "version": "3.7.4"
  }
 },
 "nbformat": 4,
 "nbformat_minor": 4
}
