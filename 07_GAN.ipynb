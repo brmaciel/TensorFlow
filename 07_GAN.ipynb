{
 "cells": [
  {
   "cell_type": "markdown",
   "metadata": {},
   "source": [
    "# Generative Adversarial Network (GAN)"
   ]
  },
  {
   "cell_type": "code",
   "execution_count": 1,
   "metadata": {},
   "outputs": [
    {
     "name": "stdout",
     "output_type": "stream",
     "text": [
      "WARNING:tensorflow:From /Users/brunomaciel/opt/anaconda3/lib/python3.7/site-packages/tensorflow_core/python/compat/v2_compat.py:88: disable_resource_variables (from tensorflow.python.ops.variable_scope) is deprecated and will be removed in a future version.\n",
      "Instructions for updating:\n",
      "non-resource variables are not supported in the long term\n"
     ]
    }
   ],
   "source": [
    "# Adaptação para utilizar a sintaxe do TensorFlor 1.x no TensorFlow 2.x\n",
    "import tensorflow.compat.v1 as tf\n",
    "tf.disable_v2_behavior()"
   ]
  },
  {
   "cell_type": "code",
   "execution_count": 2,
   "metadata": {},
   "outputs": [],
   "source": [
    "import numpy as np\n",
    "import matplotlib.pyplot as plt\n",
    "from sklearn.preprocessing import StandardScaler\n",
    "from tensorflow.keras import layers"
   ]
  },
  {
   "cell_type": "code",
   "execution_count": 3,
   "metadata": {},
   "outputs": [
    {
     "name": "stderr",
     "output_type": "stream",
     "text": [
      "Using TensorFlow backend.\n"
     ]
    }
   ],
   "source": [
    "from keras.datasets import mnist"
   ]
  },
  {
   "cell_type": "markdown",
   "metadata": {},
   "source": [
    "<br/> \n",
    "## 1. Geração de Imagens"
   ]
  },
  {
   "cell_type": "code",
   "execution_count": 4,
   "metadata": {},
   "outputs": [],
   "source": [
    "data = mnist.load_data()\n",
    "\n",
    "x = np.asarray(data[0][0], dtype=np.float32) # 60k dados (28x28)\n",
    "y = np.asarray(data[0][1], dtype=np.int32)\n",
    "\n",
    "# Normalização\n",
    "x = np.array(list(map(lambda value: value / 255., [item for item in x])))"
   ]
  },
  {
   "cell_type": "code",
   "execution_count": 5,
   "metadata": {},
   "outputs": [
    {
     "data": {
      "image/png": "[encoded data removed]",
      "text/plain": [
       "<Figure size 432x288 with 1 Axes>"
      ]
     },
     "metadata": {
      "needs_background": "light"
     },
     "output_type": "display_data"
    }
   ],
   "source": [
    "reg = 38\n",
    "plt.imshow(x[reg], cmap='Greys')\n",
    "plt.title('Classe {}'.format(y[reg]))\n",
    "plt.show()"
   ]
  },
  {
   "cell_type": "code",
   "execution_count": 6,
   "metadata": {},
   "outputs": [
    {
     "data": {
      "text/plain": [
       "<matplotlib.image.AxesImage at 0x1a4b595ed0>"
      ]
     },
     "execution_count": 6,
     "metadata": {},
     "output_type": "execute_result"
    },
    {
     "data": {
      "image/png": "[encoded data removed]",
      "text/plain": [
       "<Figure size 432x288 with 1 Axes>"
      ]
     },
     "metadata": {
      "needs_background": "light"
     },
     "output_type": "display_data"
    }
   ],
   "source": [
    "# Visualização de uma imagem aleatória\n",
    "img_1 = np.arange(784).reshape(-1, 28)\n",
    "plt.imshow(img_1)"
   ]
  },
  {
   "cell_type": "code",
   "execution_count": 7,
   "metadata": {},
   "outputs": [],
   "source": [
    "x = x.reshape(x.shape[0], -1)"
   ]
  },
  {
   "cell_type": "code",
   "execution_count": 8,
   "metadata": {},
   "outputs": [],
   "source": [
    "tf.reset_default_graph()"
   ]
  },
  {
   "cell_type": "code",
   "execution_count": 9,
   "metadata": {},
   "outputs": [],
   "source": [
    "# Criação dos Placeholders\n",
    "ruido_ph = tf.placeholder(tf.float32, shape=(None, 100))\n",
    "\n",
    "img_reais_ph = tf.placeholder(tf.float32, shape=(None, 784))"
   ]
  },
  {
   "cell_type": "code",
   "execution_count": 10,
   "metadata": {},
   "outputs": [],
   "source": [
    "# Criação dos processos de FeedForward das Redes Neurais\n",
    "def gerador(ruido, reuse=tf.AUTO_REUSE):\n",
    "    with tf.variable_scope('gerador', reuse=reuse):\n",
    "        # Estrutura da RNA_Gerador (100 -> 128 -> 128 -> 784)\n",
    "        hidden_layer1 = tf.nn.relu(tf.layers.dense(inputs=ruido, units=128))\n",
    "        hidden_layer2 = tf.nn.relu(tf.layers.dense(inputs=hidden_layer1, units=128))\n",
    "        output_layer = tf.layers.dense(inputs=hidden_layer2, units=784, activation=tf.nn.tanh)\n",
    "        \n",
    "        return output_layer\n",
    "    \n",
    "def discriminador(input_layer, reuse=tf.AUTO_REUSE):\n",
    "    with tf.variable_scope('discriminador', reuse=reuse):\n",
    "        # Estrutura da RNA_Discriminador (784 -> 128 -> 128 -> 1)\n",
    "        hidden_layer1 = tf.nn.relu(tf.layers.dense(inputs=input_layer, units=128))\n",
    "        hidden_layer2 = tf.nn.relu(tf.layers.dense(inputs=hidden_layer1, units=128))\n",
    "        logits = tf.layers.dense(inputs=hidden_layer2, units=1, activation=tf.nn.sigmoid)\n",
    "         # logits é a camada de saida sem a aplicação da funcao de ativacao\n",
    "            \n",
    "        return logits"
   ]
  },
  {
   "cell_type": "code",
   "execution_count": 11,
   "metadata": {},
   "outputs": [
    {
     "name": "stdout",
     "output_type": "stream",
     "text": [
      "WARNING:tensorflow:From <ipython-input-10-78a9d04b5404>:14: dense (from tensorflow.python.layers.core) is deprecated and will be removed in a future version.\n",
      "Instructions for updating:\n",
      "Use keras.layers.Dense instead.\n",
      "WARNING:tensorflow:From /Users/brunomaciel/opt/anaconda3/lib/python3.7/site-packages/tensorflow_core/python/layers/core.py:187: Layer.apply (from tensorflow.python.keras.engine.base_layer) is deprecated and will be removed in a future version.\n",
      "Instructions for updating:\n",
      "Please use `layer.__call__` method instead.\n"
     ]
    }
   ],
   "source": [
    "# Calculo do Erro\n",
    "\n",
    "logits_img_reais = discriminador(img_reais_ph)\n",
    "logits_img_ruido = discriminador(gerador(ruido_ph), reuse=True)\n",
    " # reuse força a RNA reutilizar os pesos já criados,\n",
    " # reuse=False, faz com que a RNA crie uma segunda rede com novos pesos\n",
    "\n",
    "# Erro do Discriminador\n",
    "erro_discr_imgReais = tf.reduce_mean(tf.nn.sigmoid_cross_entropy_with_logits(logits=logits_img_reais,\n",
    "                                                                             labels=tf.ones_like(logits_img_reais)*0.9))\n",
    "erro_discr_imgRuido = tf.reduce_mean(tf.nn.sigmoid_cross_entropy_with_logits(logits=logits_img_ruido,\n",
    "                                                                             labels=tf.zeros_like(logits_img_ruido)))\n",
    "erro_discr = erro_discr_imgReais + erro_discr_imgRuido\n",
    "\n",
    "# Erro do Gerador\n",
    "erro_gerador = tf.reduce_mean(tf.nn.sigmoid_cross_entropy_with_logits(logits=logits_img_ruido,\n",
    "                                                                      labels=tf.ones_like(logits_img_ruido)))"
   ]
  },
  {
   "cell_type": "code",
   "execution_count": 12,
   "metadata": {},
   "outputs": [
    {
     "data": {
      "text/plain": [
       "[<tf.Variable 'discriminador/dense/kernel:0' shape=(784, 128) dtype=float32_ref>,\n",
       " <tf.Variable 'discriminador/dense/bias:0' shape=(128,) dtype=float32_ref>,\n",
       " <tf.Variable 'discriminador/dense_1/kernel:0' shape=(128, 128) dtype=float32_ref>,\n",
       " <tf.Variable 'discriminador/dense_1/bias:0' shape=(128,) dtype=float32_ref>,\n",
       " <tf.Variable 'discriminador/dense_2/kernel:0' shape=(128, 1) dtype=float32_ref>,\n",
       " <tf.Variable 'discriminador/dense_2/bias:0' shape=(1,) dtype=float32_ref>,\n",
       " <tf.Variable 'gerador/dense/kernel:0' shape=(100, 128) dtype=float32_ref>,\n",
       " <tf.Variable 'gerador/dense/bias:0' shape=(128,) dtype=float32_ref>,\n",
       " <tf.Variable 'gerador/dense_1/kernel:0' shape=(128, 128) dtype=float32_ref>,\n",
       " <tf.Variable 'gerador/dense_1/bias:0' shape=(128,) dtype=float32_ref>,\n",
       " <tf.Variable 'gerador/dense_2/kernel:0' shape=(128, 784) dtype=float32_ref>,\n",
       " <tf.Variable 'gerador/dense_2/bias:0' shape=(784,) dtype=float32_ref>]"
      ]
     },
     "execution_count": 12,
     "metadata": {},
     "output_type": "execute_result"
    }
   ],
   "source": [
    "# Variaveis que são passíveis de treinamento\n",
    "train_variables = tf.trainable_variables()\n",
    "train_variables"
   ]
  },
  {
   "cell_type": "code",
   "execution_count": 15,
   "metadata": {},
   "outputs": [],
   "source": [
    "var_discriminador = [var for var in train_variables if 'discriminador' in var.name]\n",
    "var_gerador = [var for var in train_variables if 'gerador' in var.name]\n",
    "\n",
    "# O treinamento fará a otimização somente das variáveis da respectiva rede neural\n",
    "train_discriminador = tf.train.AdamOptimizer(learning_rate=0.001).minimize(erro_discr, var_list=var_discriminador)\n",
    "\n",
    "train_gerador = tf.train.AdamOptimizer(learning_rate=0.001).minimize(erro_gerador, var_list=var_gerador)"
   ]
  },
  {
   "cell_type": "code",
   "execution_count": 16,
   "metadata": {},
   "outputs": [],
   "source": [
    "BATCH_SIZE = 100\n",
    "EPOCHS = 100"
   ]
  },
  {
   "cell_type": "code",
   "execution_count": 18,
   "metadata": {
    "scrolled": true
   },
   "outputs": [
    {
     "name": "stdout",
     "output_type": "stream",
     "text": [
      "\n",
      "Epoch 1:\n",
      "  erro Discr: 1.1064127683639526\n",
      "  erro Gerad: 0.6931433081626892\n",
      "\n",
      "Epoch 2:\n",
      "  erro Discr: 1.1064114570617676\n",
      "  erro Gerad: 0.6931446194648743\n",
      "\n",
      "Epoch 3:\n",
      "  erro Discr: 1.1064140796661377\n",
      "  erro Gerad: 0.693142294883728\n",
      "\n",
      "Epoch 4:\n",
      "  erro Discr: 1.3862943649291992\n",
      "  erro Gerad: 0.6931471824645996\n",
      "\n",
      "Epoch 5:\n",
      "  erro Discr: 1.3862943649291992\n",
      "  erro Gerad: 0.6931471824645996\n",
      "\n",
      "Epoch 6:\n",
      "  erro Discr: 1.3862943649291992\n",
      "  erro Gerad: 0.6931471824645996\n",
      "\n",
      "Epoch 7:\n",
      "  erro Discr: 1.3862943649291992\n",
      "  erro Gerad: 0.6931471824645996\n",
      "\n",
      "Epoch 8:\n",
      "  erro Discr: 1.3862943649291992\n",
      "  erro Gerad: 0.6931471824645996\n",
      "\n",
      "Epoch 9:\n",
      "  erro Discr: 1.3862943649291992\n",
      "  erro Gerad: 0.6931471824645996\n",
      "\n",
      "Epoch 10:\n",
      "  erro Discr: 1.3862943649291992\n",
      "  erro Gerad: 0.6931471824645996\n",
      "\n",
      "Epoch 11:\n",
      "  erro Discr: 1.3862943649291992\n",
      "  erro Gerad: 0.6931471824645996\n",
      "\n",
      "Epoch 12:\n",
      "  erro Discr: 1.3862943649291992\n",
      "  erro Gerad: 0.6931471824645996\n",
      "\n",
      "Epoch 13:\n",
      "  erro Discr: 1.3862943649291992\n",
      "  erro Gerad: 0.6931471824645996\n",
      "\n",
      "Epoch 14:\n",
      "  erro Discr: 1.3862943649291992\n",
      "  erro Gerad: 0.6931471824645996\n",
      "\n",
      "Epoch 15:\n",
      "  erro Discr: 1.3862943649291992\n",
      "  erro Gerad: 0.6931471824645996\n",
      "\n",
      "Epoch 16:\n",
      "  erro Discr: 1.3862943649291992\n",
      "  erro Gerad: 0.6931471824645996\n",
      "\n",
      "Epoch 17:\n",
      "  erro Discr: 1.3862943649291992\n",
      "  erro Gerad: 0.6931471824645996\n",
      "\n",
      "Epoch 18:\n",
      "  erro Discr: 1.3862943649291992\n",
      "  erro Gerad: 0.6931471824645996\n",
      "\n",
      "Epoch 19:\n",
      "  erro Discr: 1.3862943649291992\n",
      "  erro Gerad: 0.6931471824645996\n",
      "\n",
      "Epoch 20:\n",
      "  erro Discr: 1.3862943649291992\n",
      "  erro Gerad: 0.6931471824645996\n",
      "\n",
      "Epoch 21:\n",
      "  erro Discr: 1.3862943649291992\n",
      "  erro Gerad: 0.6931471824645996\n",
      "\n",
      "Epoch 22:\n",
      "  erro Discr: 1.3862943649291992\n",
      "  erro Gerad: 0.6931471824645996\n",
      "\n",
      "Epoch 23:\n",
      "  erro Discr: 1.3862943649291992\n",
      "  erro Gerad: 0.6931471824645996\n",
      "\n",
      "Epoch 24:\n",
      "  erro Discr: 1.3862943649291992\n",
      "  erro Gerad: 0.6931471824645996\n",
      "\n",
      "Epoch 25:\n",
      "  erro Discr: 1.3862943649291992\n",
      "  erro Gerad: 0.6931471824645996\n",
      "\n",
      "Epoch 26:\n",
      "  erro Discr: 1.3862943649291992\n",
      "  erro Gerad: 0.6931471824645996\n",
      "\n",
      "Epoch 27:\n",
      "  erro Discr: 1.3862943649291992\n",
      "  erro Gerad: 0.6931471824645996\n",
      "\n",
      "Epoch 28:\n",
      "  erro Discr: 1.3862943649291992\n",
      "  erro Gerad: 0.6931471824645996\n",
      "\n",
      "Epoch 29:\n",
      "  erro Discr: 1.3862943649291992\n",
      "  erro Gerad: 0.6931471824645996\n",
      "\n",
      "Epoch 30:\n",
      "  erro Discr: 1.3862943649291992\n",
      "  erro Gerad: 0.6931471824645996\n",
      "\n",
      "Epoch 31:\n",
      "  erro Discr: 1.3862943649291992\n",
      "  erro Gerad: 0.6931471824645996\n",
      "\n",
      "Epoch 32:\n",
      "  erro Discr: 1.3862943649291992\n",
      "  erro Gerad: 0.6931471824645996\n",
      "\n",
      "Epoch 33:\n",
      "  erro Discr: 1.3862943649291992\n",
      "  erro Gerad: 0.6931471824645996\n",
      "\n",
      "Epoch 34:\n",
      "  erro Discr: 1.3862943649291992\n",
      "  erro Gerad: 0.6931471824645996\n",
      "\n",
      "Epoch 35:\n",
      "  erro Discr: 1.3862943649291992\n",
      "  erro Gerad: 0.6931471824645996\n",
      "\n",
      "Epoch 36:\n",
      "  erro Discr: 1.3862943649291992\n",
      "  erro Gerad: 0.6931471824645996\n",
      "\n",
      "Epoch 37:\n",
      "  erro Discr: 1.3862943649291992\n",
      "  erro Gerad: 0.6931471824645996\n",
      "\n",
      "Epoch 38:\n",
      "  erro Discr: 1.3862943649291992\n",
      "  erro Gerad: 0.6931471824645996\n",
      "\n",
      "Epoch 39:\n",
      "  erro Discr: 1.3862943649291992\n",
      "  erro Gerad: 0.6931471824645996\n",
      "\n",
      "Epoch 40:\n",
      "  erro Discr: 1.3862943649291992\n",
      "  erro Gerad: 0.6931471824645996\n",
      "\n",
      "Epoch 41:\n",
      "  erro Discr: 1.3862943649291992\n",
      "  erro Gerad: 0.6931471824645996\n",
      "\n",
      "Epoch 42:\n",
      "  erro Discr: 1.3862943649291992\n",
      "  erro Gerad: 0.6931471824645996\n",
      "\n",
      "Epoch 43:\n",
      "  erro Discr: 1.3862943649291992\n",
      "  erro Gerad: 0.6931471824645996\n",
      "\n",
      "Epoch 44:\n",
      "  erro Discr: 1.3862943649291992\n",
      "  erro Gerad: 0.6931471824645996\n",
      "\n",
      "Epoch 45:\n",
      "  erro Discr: 1.3862943649291992\n",
      "  erro Gerad: 0.6931471824645996\n",
      "\n",
      "Epoch 46:\n",
      "  erro Discr: 1.3862943649291992\n",
      "  erro Gerad: 0.6931471824645996\n",
      "\n",
      "Epoch 47:\n",
      "  erro Discr: 1.3862943649291992\n",
      "  erro Gerad: 0.6931471824645996\n",
      "\n",
      "Epoch 48:\n",
      "  erro Discr: 1.3862943649291992\n",
      "  erro Gerad: 0.6931471824645996\n",
      "\n",
      "Epoch 49:\n",
      "  erro Discr: 1.3862943649291992\n",
      "  erro Gerad: 0.6931471824645996\n",
      "\n",
      "Epoch 50:\n",
      "  erro Discr: 1.3862943649291992\n",
      "  erro Gerad: 0.6931471824645996\n",
      "\n",
      "Epoch 51:\n",
      "  erro Discr: 1.3862943649291992\n",
      "  erro Gerad: 0.6931471824645996\n",
      "\n",
      "Epoch 52:\n",
      "  erro Discr: 1.3862943649291992\n",
      "  erro Gerad: 0.6931471824645996\n",
      "\n",
      "Epoch 53:\n",
      "  erro Discr: 1.3862943649291992\n",
      "  erro Gerad: 0.6931471824645996\n",
      "\n",
      "Epoch 54:\n",
      "  erro Discr: 1.3862943649291992\n",
      "  erro Gerad: 0.6931471824645996\n",
      "\n",
      "Epoch 55:\n",
      "  erro Discr: 1.3862943649291992\n",
      "  erro Gerad: 0.6931471824645996\n",
      "\n",
      "Epoch 56:\n",
      "  erro Discr: 1.3862943649291992\n",
      "  erro Gerad: 0.6931471824645996\n",
      "\n",
      "Epoch 57:\n",
      "  erro Discr: 1.3862943649291992\n",
      "  erro Gerad: 0.6931471824645996\n",
      "\n",
      "Epoch 58:\n",
      "  erro Discr: 1.3862943649291992\n",
      "  erro Gerad: 0.6931471824645996\n",
      "\n",
      "Epoch 59:\n",
      "  erro Discr: 1.3862943649291992\n",
      "  erro Gerad: 0.6931471824645996\n",
      "\n",
      "Epoch 60:\n",
      "  erro Discr: 1.3862943649291992\n",
      "  erro Gerad: 0.6931471824645996\n",
      "\n",
      "Epoch 61:\n",
      "  erro Discr: 1.3862943649291992\n",
      "  erro Gerad: 0.6931471824645996\n",
      "\n",
      "Epoch 62:\n",
      "  erro Discr: 1.3862943649291992\n",
      "  erro Gerad: 0.6931471824645996\n",
      "\n",
      "Epoch 63:\n",
      "  erro Discr: 1.3862943649291992\n",
      "  erro Gerad: 0.6931471824645996\n",
      "\n",
      "Epoch 64:\n",
      "  erro Discr: 1.3862943649291992\n",
      "  erro Gerad: 0.6931471824645996\n",
      "\n",
      "Epoch 65:\n",
      "  erro Discr: 1.3862943649291992\n",
      "  erro Gerad: 0.6931471824645996\n",
      "\n",
      "Epoch 66:\n",
      "  erro Discr: 1.3862943649291992\n",
      "  erro Gerad: 0.6931471824645996\n",
      "\n",
      "Epoch 67:\n",
      "  erro Discr: 1.3862943649291992\n",
      "  erro Gerad: 0.6931471824645996\n",
      "\n",
      "Epoch 68:\n",
      "  erro Discr: 1.3862943649291992\n",
      "  erro Gerad: 0.6931471824645996\n",
      "\n",
      "Epoch 69:\n",
      "  erro Discr: 1.3862943649291992\n",
      "  erro Gerad: 0.6931471824645996\n",
      "\n",
      "Epoch 70:\n",
      "  erro Discr: 1.3862943649291992\n",
      "  erro Gerad: 0.6931471824645996\n",
      "\n",
      "Epoch 71:\n",
      "  erro Discr: 1.3862943649291992\n",
      "  erro Gerad: 0.6931471824645996\n",
      "\n",
      "Epoch 72:\n",
      "  erro Discr: 1.3862943649291992\n",
      "  erro Gerad: 0.6931471824645996\n",
      "\n",
      "Epoch 73:\n",
      "  erro Discr: 1.3862943649291992\n",
      "  erro Gerad: 0.6931471824645996\n",
      "\n",
      "Epoch 74:\n",
      "  erro Discr: 1.3862943649291992\n",
      "  erro Gerad: 0.6931471824645996\n",
      "\n",
      "Epoch 75:\n",
      "  erro Discr: 1.3862943649291992\n",
      "  erro Gerad: 0.6931471824645996\n",
      "\n",
      "Epoch 76:\n",
      "  erro Discr: 1.3862943649291992\n",
      "  erro Gerad: 0.6931471824645996\n",
      "\n",
      "Epoch 77:\n",
      "  erro Discr: 1.3862943649291992\n",
      "  erro Gerad: 0.6931471824645996\n",
      "\n",
      "Epoch 78:\n",
      "  erro Discr: 1.3862943649291992\n",
      "  erro Gerad: 0.6931471824645996\n",
      "\n",
      "Epoch 79:\n",
      "  erro Discr: 1.3862943649291992\n",
      "  erro Gerad: 0.6931471824645996\n",
      "\n",
      "Epoch 80:\n",
      "  erro Discr: 1.3862943649291992\n",
      "  erro Gerad: 0.6931471824645996\n",
      "\n",
      "Epoch 81:\n",
      "  erro Discr: 1.3862943649291992\n",
      "  erro Gerad: 0.6931471824645996\n",
      "\n",
      "Epoch 82:\n",
      "  erro Discr: 1.3862943649291992\n",
      "  erro Gerad: 0.6931471824645996\n",
      "\n",
      "Epoch 83:\n",
      "  erro Discr: 1.3862943649291992\n",
      "  erro Gerad: 0.6931471824645996\n",
      "\n",
      "Epoch 84:\n",
      "  erro Discr: 1.3862943649291992\n",
      "  erro Gerad: 0.6931471824645996\n",
      "\n",
      "Epoch 85:\n",
      "  erro Discr: 1.3862943649291992\n",
      "  erro Gerad: 0.6931471824645996\n",
      "\n",
      "Epoch 86:\n",
      "  erro Discr: 1.3862943649291992\n",
      "  erro Gerad: 0.6931471824645996\n",
      "\n",
      "Epoch 87:\n",
      "  erro Discr: 1.3862943649291992\n",
      "  erro Gerad: 0.6931471824645996\n",
      "\n",
      "Epoch 88:\n",
      "  erro Discr: 1.3862943649291992\n",
      "  erro Gerad: 0.6931471824645996\n",
      "\n",
      "Epoch 89:\n",
      "  erro Discr: 1.3862943649291992\n",
      "  erro Gerad: 0.6931471824645996\n",
      "\n",
      "Epoch 90:\n",
      "  erro Discr: 1.3862943649291992\n",
      "  erro Gerad: 0.6931471824645996\n",
      "\n",
      "Epoch 91:\n",
      "  erro Discr: 1.3862943649291992\n",
      "  erro Gerad: 0.6931471824645996\n",
      "\n",
      "Epoch 92:\n",
      "  erro Discr: 1.3862943649291992\n",
      "  erro Gerad: 0.6931471824645996\n",
      "\n",
      "Epoch 93:\n",
      "  erro Discr: 1.3862943649291992\n",
      "  erro Gerad: 0.6931471824645996\n",
      "\n",
      "Epoch 94:\n",
      "  erro Discr: 1.3862943649291992\n",
      "  erro Gerad: 0.6931471824645996\n",
      "\n",
      "Epoch 95:\n",
      "  erro Discr: 1.3862943649291992\n",
      "  erro Gerad: 0.6931471824645996\n",
      "\n",
      "Epoch 96:\n",
      "  erro Discr: 1.3862943649291992\n",
      "  erro Gerad: 0.6931471824645996\n",
      "\n",
      "Epoch 97:\n",
      "  erro Discr: 1.3862943649291992\n",
      "  erro Gerad: 0.6931471824645996\n",
      "\n",
      "Epoch 98:\n",
      "  erro Discr: 1.3862943649291992\n",
      "  erro Gerad: 0.6931471824645996\n",
      "\n",
      "Epoch 99:\n",
      "  erro Discr: 1.3862943649291992\n",
      "  erro Gerad: 0.6931471824645996\n",
      "\n",
      "Epoch 100:\n",
      "  erro Discr: 1.3862943649291992\n",
      "  erro Gerad: 0.6931471824645996\n"
     ]
    }
   ],
   "source": [
    "amostras_test = []\n",
    "with tf.Session() as sess:\n",
    "    sess.run(tf.global_variables_initializer())\n",
    "    \n",
    "    # Gerador gera imagens\n",
    "    #ruido_test = np.random.uniform(-1, 1, size=(1,100))\n",
    "    #amostra = sess.run(gerador(ruido_ph, reuse=True), feed_dict={ruido_ph: ruido_test})\n",
    "    \n",
    "    # Discriminador classifica imagens\n",
    "    #n_batches = x.shape[0] // BATCH_SIZE\n",
    "    #x_inBatches = np.array_split(x, n_batches)\n",
    "    # Transforma os valores para escala [-1, 1] por conta da função de ativação tanh\n",
    "    #x_inBatches = [x*2 - 1 for x in x_inBatches]\n",
    "    \n",
    "    #logits = sess.run(discriminador(img_reais_ph, reuse=True), feed_dict={img_reais_ph: x_inBatches[0]})\n",
    "    #previsoes = sess.run(tf.nn.sigmoid(logits))\n",
    "    \n",
    "    for epoch in range(EPOCHS):\n",
    "        n_batches = x.shape[0] // BATCH_SIZE\n",
    "        x_inBatches = np.array_split(x, n_batches)\n",
    "        \n",
    "        for batch in range(n_batches):\n",
    "            img_batch = x_inBatches[0] * 2 - 1\n",
    "            ruido_batch = np.random.uniform(-1, 1, size=(BATCH_SIZE, 100))\n",
    "            \n",
    "            _, loss_d = sess.run([train_discriminador, erro_discr], \n",
    "                                 feed_dict={img_reais_ph: img_batch, ruido_ph: ruido_batch})\n",
    "            _, loss_g = sess.run([train_gerador, erro_gerador], feed_dict={ruido_ph: ruido_batch})\n",
    "        \n",
    "        if epoch % 5 == 0 or epoch == EPOCHS-1:\n",
    "            print('\\nEpoch {}:'.format(epoch+1))\n",
    "            print('  erro Discr: {}'.format(loss_d))\n",
    "            print('  erro Gerad: {}'.format(loss_g))\n",
    "            \n",
    "        ruido_test = np.random.uniform(-1, 1, size=(1, 100))\n",
    "        img_gerada = sess.run(gerador(ruido_ph, reuse=True), feed_dict={ruido_ph: ruido_test})\n",
    "        \n",
    "        amostras_test.append(img_gerada)"
   ]
  },
  {
   "cell_type": "code",
   "execution_count": 32,
   "metadata": {},
   "outputs": [
    {
     "data": {
      "text/plain": [
       "<matplotlib.image.AxesImage at 0x1a424e68d0>"
      ]
     },
     "execution_count": 32,
     "metadata": {},
     "output_type": "execute_result"
    },
    {
     "data": {
      "image/png": "[encoded data removed]",
      "text/plain": [
       "<Figure size 432x288 with 1 Axes>"
      ]
     },
     "metadata": {
      "needs_background": "light"
     },
     "output_type": "display_data"
    }
   ],
   "source": [
    "plt.imshow(amostras_test[99].reshape(28, 28), cmap='Greys')"
   ]
  }
 ],
 "metadata": {
  "kernelspec": {
   "display_name": "Python 3",
   "language": "python",
   "name": "python3"
  },
  "language_info": {
   "codemirror_mode": {
    "name": "ipython",
    "version": 3
   },
   "file_extension": ".py",
   "mimetype": "text/x-python",
   "name": "python",
   "nbconvert_exporter": "python",
   "pygments_lexer": "ipython3",
   "version": "3.7.4"
  }
 },
 "nbformat": 4,
 "nbformat_minor": 4
}
