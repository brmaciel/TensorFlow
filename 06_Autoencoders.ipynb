{
 "cells": [
  {
   "cell_type": "markdown",
   "metadata": {},
   "source": [
    "# Autoencoders"
   ]
  },
  {
   "cell_type": "code",
   "execution_count": 1,
   "metadata": {},
   "outputs": [
    {
     "name": "stdout",
     "output_type": "stream",
     "text": [
      "WARNING:tensorflow:From /Users/brunomaciel/opt/anaconda3/lib/python3.7/site-packages/tensorflow_core/python/compat/v2_compat.py:88: disable_resource_variables (from tensorflow.python.ops.variable_scope) is deprecated and will be removed in a future version.\n",
      "Instructions for updating:\n",
      "non-resource variables are not supported in the long term\n"
     ]
    }
   ],
   "source": [
    "# Adaptação para utilizar a sintaxe do TensorFlor 1.x no TensorFlow 2.x\n",
    "import tensorflow.compat.v1 as tf\n",
    "tf.disable_v2_behavior()"
   ]
  },
  {
   "cell_type": "code",
   "execution_count": 2,
   "metadata": {},
   "outputs": [],
   "source": [
    "import pandas as pd\n",
    "import numpy as np\n",
    "import matplotlib.pyplot as plt\n",
    "from sklearn.preprocessing import StandardScaler\n",
    "from sklearn.model_selection import train_test_split\n",
    "from sklearn.metrics import mean_absolute_error\n",
    "from tensorflow.keras import Model, layers"
   ]
  },
  {
   "cell_type": "markdown",
   "metadata": {},
   "source": [
    "<br/> \n",
    "## 1. Redução de Dimensionalidade"
   ]
  },
  {
   "cell_type": "code",
   "execution_count": 3,
   "metadata": {},
   "outputs": [
    {
     "data": {
      "text/html": [
       "<div>\n",
       "<style scoped>\n",
       "    .dataframe tbody tr th:only-of-type {\n",
       "        vertical-align: middle;\n",
       "    }\n",
       "\n",
       "    .dataframe tbody tr th {\n",
       "        vertical-align: top;\n",
       "    }\n",
       "\n",
       "    .dataframe thead th {\n",
       "        text-align: right;\n",
       "    }\n",
       "</style>\n",
       "<table border=\"1\" class=\"dataframe\">\n",
       "  <thead>\n",
       "    <tr style=\"text-align: right;\">\n",
       "      <th></th>\n",
       "      <th>i#clientid</th>\n",
       "      <th>income</th>\n",
       "      <th>age</th>\n",
       "      <th>loan</th>\n",
       "      <th>c#default</th>\n",
       "    </tr>\n",
       "  </thead>\n",
       "  <tbody>\n",
       "    <tr>\n",
       "      <th>0</th>\n",
       "      <td>1</td>\n",
       "      <td>66155.925095</td>\n",
       "      <td>59.017015</td>\n",
       "      <td>8106.532131</td>\n",
       "      <td>0</td>\n",
       "    </tr>\n",
       "    <tr>\n",
       "      <th>1</th>\n",
       "      <td>2</td>\n",
       "      <td>34415.153966</td>\n",
       "      <td>48.117153</td>\n",
       "      <td>6564.745018</td>\n",
       "      <td>0</td>\n",
       "    </tr>\n",
       "    <tr>\n",
       "      <th>2</th>\n",
       "      <td>3</td>\n",
       "      <td>57317.170063</td>\n",
       "      <td>63.108049</td>\n",
       "      <td>8020.953296</td>\n",
       "      <td>0</td>\n",
       "    </tr>\n",
       "    <tr>\n",
       "      <th>3</th>\n",
       "      <td>4</td>\n",
       "      <td>42709.534201</td>\n",
       "      <td>45.751972</td>\n",
       "      <td>6103.642260</td>\n",
       "      <td>0</td>\n",
       "    </tr>\n",
       "    <tr>\n",
       "      <th>4</th>\n",
       "      <td>5</td>\n",
       "      <td>66952.688845</td>\n",
       "      <td>18.584336</td>\n",
       "      <td>8770.099235</td>\n",
       "      <td>1</td>\n",
       "    </tr>\n",
       "  </tbody>\n",
       "</table>\n",
       "</div>"
      ],
      "text/plain": [
       "   i#clientid        income        age         loan  c#default\n",
       "0           1  66155.925095  59.017015  8106.532131          0\n",
       "1           2  34415.153966  48.117153  6564.745018          0\n",
       "2           3  57317.170063  63.108049  8020.953296          0\n",
       "3           4  42709.534201  45.751972  6103.642260          0\n",
       "4           5  66952.688845  18.584336  8770.099235          1"
      ]
     },
     "execution_count": 3,
     "metadata": {},
     "output_type": "execute_result"
    }
   ],
   "source": [
    "base = pd.read_csv('credit_data.csv')\n",
    "base.head()"
   ]
  },
  {
   "cell_type": "code",
   "execution_count": 4,
   "metadata": {},
   "outputs": [
    {
     "data": {
      "text/plain": [
       "(1997, 4)"
      ]
     },
     "execution_count": 4,
     "metadata": {},
     "output_type": "execute_result"
    }
   ],
   "source": [
    "base.drop(columns='i#clientid', inplace=True)\n",
    "base.dropna(inplace=True)\n",
    "base.shape"
   ]
  },
  {
   "cell_type": "code",
   "execution_count": 5,
   "metadata": {},
   "outputs": [],
   "source": [
    "scaler_x = StandardScaler()\n",
    "base[['income', 'age', 'loan']] = scaler_x.fit_transform(base[['income', 'age', 'loan']])"
   ]
  },
  {
   "cell_type": "code",
   "execution_count": 6,
   "metadata": {},
   "outputs": [],
   "source": [
    "x = base.drop('c#default', axis=1)\n",
    "y = base['c#default']"
   ]
  },
  {
   "cell_type": "markdown",
   "metadata": {},
   "source": [
    "<br/> \n",
    "### 1.1 Classificação Sem Redução de Dimensionalidade"
   ]
  },
  {
   "cell_type": "code",
   "execution_count": 7,
   "metadata": {},
   "outputs": [],
   "source": [
    "x_train, x_test, y_train, y_test = train_test_split(x, y, test_size=0.3, random_state=0)"
   ]
  },
  {
   "cell_type": "code",
   "execution_count": 8,
   "metadata": {},
   "outputs": [],
   "source": [
    "colunas = [tf.feature_column.numeric_column(key=col) for col in x.columns]"
   ]
  },
  {
   "cell_type": "code",
   "execution_count": 9,
   "metadata": {},
   "outputs": [],
   "source": [
    "# Define as funções de treinamento e teste\n",
    "funcao_train = tf.estimator.inputs.pandas_input_fn(x_train, y_train, batch_size=8, num_epochs=None, shuffle=True)\n",
    "\n",
    "funcao_test = tf.estimator.inputs.pandas_input_fn(x_test, y_test, batch_size=8, num_epochs=1000, shuffle=False)"
   ]
  },
  {
   "cell_type": "code",
   "execution_count": null,
   "metadata": {
    "scrolled": true
   },
   "outputs": [],
   "source": [
    "# Cria e treina o classificador\n",
    "classificador = tf.estimator.DNNClassifier(feature_columns=colunas, hidden_units=(4,4))\n",
    "\n",
    "classificador.train(input_fn=funcao_train, steps=1000)"
   ]
  },
  {
   "cell_type": "code",
   "execution_count": null,
   "metadata": {
    "scrolled": true
   },
   "outputs": [],
   "source": [
    "# Realiza o teste\n",
    "metric_test = classificador.evaluate(input_fn=funcao_test, steps=1000)"
   ]
  },
  {
   "cell_type": "code",
   "execution_count": 12,
   "metadata": {},
   "outputs": [
    {
     "data": {
      "text/plain": [
       "{'accuracy': 0.98475,\n",
       " 'accuracy_baseline': 0.8635,\n",
       " 'auc': 0.99916816,\n",
       " 'auc_precision_recall': 0.9949482,\n",
       " 'average_loss': 0.10051989,\n",
       " 'label/mean': 0.1365,\n",
       " 'loss': 0.8041591,\n",
       " 'precision': 0.9859719,\n",
       " 'prediction/mean': 0.094055794,\n",
       " 'recall': 0.9010989,\n",
       " 'global_step': 1000}"
      ]
     },
     "execution_count": 12,
     "metadata": {},
     "output_type": "execute_result"
    }
   ],
   "source": [
    "metric_test"
   ]
  },
  {
   "cell_type": "markdown",
   "metadata": {},
   "source": [
    "<br/> \n",
    "### 1.2 Classificação com Redução de Dimensionalidade"
   ]
  },
  {
   "cell_type": "markdown",
   "metadata": {},
   "source": [
    "#### Criação do Autoencoder"
   ]
  },
  {
   "cell_type": "code",
   "execution_count": 13,
   "metadata": {},
   "outputs": [],
   "source": [
    "input_neurons = x.shape[1]\n",
    "hidden_neurons = 2\n",
    "output_neurons = input_neurons"
   ]
  },
  {
   "cell_type": "code",
   "execution_count": 14,
   "metadata": {},
   "outputs": [],
   "source": [
    "x_ph = tf.placeholder(tf.float32, shape=(None, input_neurons))"
   ]
  },
  {
   "cell_type": "code",
   "execution_count": 15,
   "metadata": {},
   "outputs": [
    {
     "name": "stdout",
     "output_type": "stream",
     "text": [
      "WARNING:tensorflow:From <ipython-input-15-ae016d5e7c09>:3: dense (from tensorflow.python.layers.core) is deprecated and will be removed in a future version.\n",
      "Instructions for updating:\n",
      "Use keras.layers.Dense instead.\n",
      "WARNING:tensorflow:From /Users/brunomaciel/opt/anaconda3/lib/python3.7/site-packages/tensorflow_core/python/layers/core.py:187: Layer.apply (from tensorflow.python.keras.engine.base_layer) is deprecated and will be removed in a future version.\n",
      "Instructions for updating:\n",
      "Please use `layer.__call__` method instead.\n"
     ]
    }
   ],
   "source": [
    "# Cria a estrutura da rede\n",
    "# utiliza autoencoder linear que não possui função de ativação\n",
    "hidden_layer = tf.layers.dense(units=hidden_neurons, inputs=x_ph, activation=None)\n",
    "output_layer = tf.layers.dense(units=output_neurons, inputs=hidden_layer)\n",
    "\n",
    "erro = tf.losses.mean_squared_error(labels=x_ph, predictions=output_layer)\n",
    "otimizador = tf.train.AdamOptimizer(learning_rate=0.01)\n",
    "treinamento = otimizador.minimize(erro)"
   ]
  },
  {
   "cell_type": "code",
   "execution_count": 16,
   "metadata": {},
   "outputs": [
    {
     "name": "stdout",
     "output_type": "stream",
     "text": [
      "Epoch 1: erro: 2.0109896659851074\n",
      "Epoch 101: erro: 0.3579404354095459\n",
      "Epoch 201: erro: 0.3459489345550537\n",
      "Epoch 301: erro: 0.33832642436027527\n",
      "Epoch 401: erro: 0.33209994435310364\n",
      "Epoch 501: erro: 0.3217070996761322\n",
      "Epoch 601: erro: 0.2892310917377472\n",
      "Epoch 701: erro: 0.20519137382507324\n",
      "Epoch 801: erro: 0.18572886288166046\n",
      "Epoch 901: erro: 0.18566571176052094\n"
     ]
    }
   ],
   "source": [
    "with tf.Session() as sess:\n",
    "    sess.run(tf.global_variables_initializer())\n",
    "    for epoch in range(1000):\n",
    "        _, loss = sess.run([treinamento, erro], feed_dict={x_ph: x})\n",
    "        if epoch % 100 == 0:\n",
    "            print('Epoch {}: erro: {}'.format(epoch+1, loss))\n",
    "    \n",
    "    x_encoded = sess.run(hidden_layer, feed_dict={x_ph: x})\n",
    "    x_decoded = sess.run(output_layer, feed_dict={x_ph: x})"
   ]
  },
  {
   "cell_type": "code",
   "execution_count": 17,
   "metadata": {},
   "outputs": [
    {
     "data": {
      "text/plain": [
       "array([[6.3550121e+04, 5.8815678e+01, 8.6591641e+03],\n",
       "       [4.4525793e+04, 4.8898304e+01, 4.4205264e+03],\n",
       "       [5.8753723e+04, 6.3219036e+01, 7.7162993e+03],\n",
       "       ...,\n",
       "       [4.7892660e+04, 2.8293837e+01, 4.7633013e+03],\n",
       "       [3.6941805e+04, 6.3445316e+01, 3.0678645e+03],\n",
       "       [6.3608355e+04, 5.5702312e+01, 8.6148633e+03]], dtype=float32)"
      ]
     },
     "execution_count": 17,
     "metadata": {},
     "output_type": "execute_result"
    }
   ],
   "source": [
    "x_decoded_unscaled = scaler_x.inverse_transform(x_decoded)\n",
    "x_decoded_unscaled"
   ]
  },
  {
   "cell_type": "code",
   "execution_count": 18,
   "metadata": {},
   "outputs": [
    {
     "data": {
      "text/plain": [
       "array([6.25924366e+03, 4.83594955e-01, 1.32743375e+03])"
      ]
     },
     "execution_count": 18,
     "metadata": {},
     "output_type": "execute_result"
    }
   ],
   "source": [
    "mae = mean_absolute_error(scaler_x.inverse_transform(x), x_decoded_unscaled, multioutput='raw_values')\n",
    "mae"
   ]
  },
  {
   "cell_type": "markdown",
   "metadata": {},
   "source": [
    "#### Classificação"
   ]
  },
  {
   "cell_type": "code",
   "execution_count": 19,
   "metadata": {},
   "outputs": [
    {
     "data": {
      "text/html": [
       "<div>\n",
       "<style scoped>\n",
       "    .dataframe tbody tr th:only-of-type {\n",
       "        vertical-align: middle;\n",
       "    }\n",
       "\n",
       "    .dataframe tbody tr th {\n",
       "        vertical-align: top;\n",
       "    }\n",
       "\n",
       "    .dataframe thead th {\n",
       "        text-align: right;\n",
       "    }\n",
       "</style>\n",
       "<table border=\"1\" class=\"dataframe\">\n",
       "  <thead>\n",
       "    <tr style=\"text-align: right;\">\n",
       "      <th></th>\n",
       "      <th>att_1</th>\n",
       "      <th>att_2</th>\n",
       "    </tr>\n",
       "  </thead>\n",
       "  <tbody>\n",
       "    <tr>\n",
       "      <th>0</th>\n",
       "      <td>-2.667475</td>\n",
       "      <td>1.535249</td>\n",
       "    </tr>\n",
       "    <tr>\n",
       "      <th>1</th>\n",
       "      <td>-0.140482</td>\n",
       "      <td>0.458687</td>\n",
       "    </tr>\n",
       "    <tr>\n",
       "      <th>2</th>\n",
       "      <td>-2.231281</td>\n",
       "      <td>1.673053</td>\n",
       "    </tr>\n",
       "    <tr>\n",
       "      <th>3</th>\n",
       "      <td>-0.433048</td>\n",
       "      <td>0.376436</td>\n",
       "    </tr>\n",
       "    <tr>\n",
       "      <th>4</th>\n",
       "      <td>-1.930204</td>\n",
       "      <td>-0.753729</td>\n",
       "    </tr>\n",
       "    <tr>\n",
       "      <th>...</th>\n",
       "      <td>...</td>\n",
       "      <td>...</td>\n",
       "    </tr>\n",
       "    <tr>\n",
       "      <th>1995</th>\n",
       "      <td>-0.279089</td>\n",
       "      <td>0.414975</td>\n",
       "    </tr>\n",
       "    <tr>\n",
       "      <th>1996</th>\n",
       "      <td>-0.708221</td>\n",
       "      <td>-0.834751</td>\n",
       "    </tr>\n",
       "    <tr>\n",
       "      <th>1997</th>\n",
       "      <td>0.063001</td>\n",
       "      <td>-0.676178</td>\n",
       "    </tr>\n",
       "    <tr>\n",
       "      <th>1998</th>\n",
       "      <td>0.328499</td>\n",
       "      <td>1.126161</td>\n",
       "    </tr>\n",
       "    <tr>\n",
       "      <th>1999</th>\n",
       "      <td>-2.583722</td>\n",
       "      <td>1.352196</td>\n",
       "    </tr>\n",
       "  </tbody>\n",
       "</table>\n",
       "<p>1997 rows × 2 columns</p>\n",
       "</div>"
      ],
      "text/plain": [
       "         att_1     att_2\n",
       "0    -2.667475  1.535249\n",
       "1    -0.140482  0.458687\n",
       "2    -2.231281  1.673053\n",
       "3    -0.433048  0.376436\n",
       "4    -1.930204 -0.753729\n",
       "...        ...       ...\n",
       "1995 -0.279089  0.414975\n",
       "1996 -0.708221 -0.834751\n",
       "1997  0.063001 -0.676178\n",
       "1998  0.328499  1.126161\n",
       "1999 -2.583722  1.352196\n",
       "\n",
       "[1997 rows x 2 columns]"
      ]
     },
     "execution_count": 19,
     "metadata": {},
     "output_type": "execute_result"
    }
   ],
   "source": [
    "x_encoded_df = pd.DataFrame(x_encoded, columns=['att_1', 'att_2'], index=x.index)\n",
    "x_encoded_df"
   ]
  },
  {
   "cell_type": "code",
   "execution_count": null,
   "metadata": {
    "scrolled": true
   },
   "outputs": [],
   "source": [
    "x_train, x_test, y_train, y_test = train_test_split(x_encoded_df, y, test_size=0.3, random_state=0)\n",
    "colunas = [tf.feature_column.numeric_column(key=col) for col in x_encoded_df.columns]\n",
    "\n",
    "# Define as funções de treinamento e teste\n",
    "funcao_train = tf.estimator.inputs.pandas_input_fn(x_train, y_train, batch_size=8, num_epochs=None, shuffle=True)\n",
    "funcao_test = tf.estimator.inputs.pandas_input_fn(x_test, y_test, batch_size=8, num_epochs=1000, shuffle=False)\n",
    "\n",
    "# Cria e treina o classificador\n",
    "classificador = tf.estimator.DNNClassifier(feature_columns=colunas, hidden_units=(4,4))\n",
    "classificador.train(input_fn=funcao_train, steps=1000)"
   ]
  },
  {
   "cell_type": "code",
   "execution_count": null,
   "metadata": {
    "scrolled": true
   },
   "outputs": [],
   "source": [
    "# Realiza o teste\n",
    "metric_test = classificador.evaluate(input_fn=funcao_test, steps=1000)"
   ]
  },
  {
   "cell_type": "code",
   "execution_count": 22,
   "metadata": {},
   "outputs": [
    {
     "data": {
      "text/plain": [
       "{'accuracy': 0.894875,\n",
       " 'accuracy_baseline': 0.8635,\n",
       " 'auc': 0.93667716,\n",
       " 'auc_precision_recall': 0.68756545,\n",
       " 'average_loss': 0.21867135,\n",
       " 'label/mean': 0.1365,\n",
       " 'loss': 1.7493708,\n",
       " 'precision': 0.7871854,\n",
       " 'prediction/mean': 0.11850305,\n",
       " 'recall': 0.31501833,\n",
       " 'global_step': 1000}"
      ]
     },
     "execution_count": 22,
     "metadata": {},
     "output_type": "execute_result"
    }
   ],
   "source": [
    "metric_test"
   ]
  },
  {
   "cell_type": "markdown",
   "metadata": {},
   "source": [
    "<br/><br/> \n",
    "## 2. Stacked Autoencoder"
   ]
  },
  {
   "cell_type": "code",
   "execution_count": 23,
   "metadata": {},
   "outputs": [
    {
     "name": "stderr",
     "output_type": "stream",
     "text": [
      "Using TensorFlow backend.\n"
     ]
    }
   ],
   "source": [
    "from keras.datasets import mnist"
   ]
  },
  {
   "cell_type": "code",
   "execution_count": 24,
   "metadata": {},
   "outputs": [],
   "source": [
    "data = mnist.load_data()\n",
    "\n",
    "x = np.asarray(data[0][0], dtype=np.float32) # 60k dados (28x28)\n",
    "y = np.asarray(data[0][1], dtype=np.int32)\n",
    "\n",
    "# Normalização\n",
    "x = np.array(list(map(lambda value: value / 255., [item for item in x])))"
   ]
  },
  {
   "cell_type": "code",
   "execution_count": 25,
   "metadata": {},
   "outputs": [
    {
     "data": {
      "image/png": "[encoded data removed]",
      "text/plain": [
       "<Figure size 432x288 with 1 Axes>"
      ]
     },
     "metadata": {
      "needs_background": "light"
     },
     "output_type": "display_data"
    }
   ],
   "source": [
    "reg = 38\n",
    "plt.imshow(x[reg], cmap='gray')\n",
    "plt.title('Classe {}'.format(y[reg]))\n",
    "plt.show()"
   ]
  },
  {
   "cell_type": "code",
   "execution_count": 26,
   "metadata": {},
   "outputs": [
    {
     "data": {
      "text/plain": [
       "(60000, 784)"
      ]
     },
     "execution_count": 26,
     "metadata": {},
     "output_type": "execute_result"
    }
   ],
   "source": [
    "x = x.reshape(x.shape[0], -1)\n",
    "x.shape"
   ]
  },
  {
   "cell_type": "code",
   "execution_count": 27,
   "metadata": {},
   "outputs": [],
   "source": [
    "# Estrutura da rede \n",
    "# (784 -> 128 -> 64 -> 128 -> 784)\n",
    "\n",
    "# Encoder\n",
    "input_neurons = 28*28\n",
    "hidden_neurons1 = 128\n",
    "hidden_neurons2 = 64\n",
    "\n",
    "# Decoder\n",
    "hidden_neurons3 = hidden_neurons1\n",
    "output_neurons = input_neurons"
   ]
  },
  {
   "cell_type": "code",
   "execution_count": 28,
   "metadata": {},
   "outputs": [],
   "source": [
    "tf.reset_default_graph()"
   ]
  },
  {
   "cell_type": "code",
   "execution_count": 29,
   "metadata": {},
   "outputs": [],
   "source": [
    "x_ph = tf.placeholder(tf.float32, shape=(None, input_neurons))"
   ]
  },
  {
   "cell_type": "code",
   "execution_count": 30,
   "metadata": {},
   "outputs": [],
   "source": [
    "# Xavier inicialization, se adapta melhor a sigmoid\n",
    "# He inicialization (generalização do xavier init), se adapta melhor a relu\n",
    "\n",
    "inicializador = tf.variance_scaling_initializer()\n",
    "\n",
    "# Inicialização dos Pesos e Bias\n",
    "w = {'encoder_hidden1': tf.Variable(inicializador([input_neurons, hidden_neurons1])),\n",
    "     'encoder_hidden2': tf.Variable(inicializador([hidden_neurons1, hidden_neurons2])),\n",
    "     'decoder_hidden3': tf.Variable(inicializador([hidden_neurons2, hidden_neurons3])),\n",
    "     'decoder_output': tf.Variable(inicializador([hidden_neurons3, output_neurons]))}\n",
    "\n",
    "b = {'encoder_hidden1': tf.Variable(inicializador([hidden_neurons1])),\n",
    "     'encoder_hidden2': tf.Variable(inicializador([hidden_neurons2])),\n",
    "     'decoder_hidden3': tf.Variable(inicializador([hidden_neurons3])),\n",
    "     'decoder_output': tf.Variable(inicializador([output_neurons]))}"
   ]
  },
  {
   "cell_type": "code",
   "execution_count": 31,
   "metadata": {},
   "outputs": [],
   "source": [
    "# Processo de FeedForward\n",
    "hidden_layer1 = tf.nn.relu(tf.add(tf.matmul(x_ph, w['encoder_hidden1']), b['encoder_hidden1']))\n",
    "hidden_layer2 = tf.nn.relu(tf.add(tf.matmul(hidden_layer1, w['encoder_hidden2']), b['encoder_hidden2']))\n",
    "hidden_layer3 = tf.nn.relu(tf.add(tf.matmul(hidden_layer2, w['decoder_hidden3']), b['decoder_hidden3']))\n",
    "output_layer = tf.nn.relu(tf.add(tf.matmul(hidden_layer3, w['decoder_output']), b['decoder_output']))"
   ]
  },
  {
   "cell_type": "code",
   "execution_count": 32,
   "metadata": {},
   "outputs": [],
   "source": [
    "# Calculo do Erro\n",
    "erro = tf.losses.mean_squared_error(x_ph, output_layer)\n",
    "\n",
    "# Processo de BackPropagation\n",
    "otimizador = tf.train.AdamOptimizer(learning_rate=0.001)\n",
    "treinamento = otimizador.minimize(erro)"
   ]
  },
  {
   "cell_type": "code",
   "execution_count": 33,
   "metadata": {},
   "outputs": [],
   "source": [
    "BATCH_SIZE = 128\n",
    "EPOCHS = 50"
   ]
  },
  {
   "cell_type": "code",
   "execution_count": 34,
   "metadata": {},
   "outputs": [
    {
     "name": "stdout",
     "output_type": "stream",
     "text": [
      "Epoch 1: erro: 0.02073177509009838\n",
      "Epoch 6: erro: 0.013243727385997772\n",
      "Epoch 11: erro: 0.012387366034090519\n",
      "Epoch 16: erro: 0.011938277631998062\n",
      "Epoch 21: erro: 0.011730767786502838\n",
      "Epoch 26: erro: 0.011653359048068523\n",
      "Epoch 31: erro: 0.011590308509767056\n",
      "Epoch 36: erro: 0.01155852060765028\n",
      "Epoch 41: erro: 0.011552039533853531\n",
      "Epoch 46: erro: 0.011520680040121078\n",
      "Epoch 50: erro: 0.011492813006043434\n"
     ]
    }
   ],
   "source": [
    "with tf.Session() as sess:\n",
    "    sess.run(tf.global_variables_initializer())\n",
    "    for epoch in range(EPOCHS):\n",
    "        num_batches = x.shape[0] // BATCH_SIZE\n",
    "        \n",
    "        x_inBatches = np.array_split(x, num_batches)\n",
    "        \n",
    "        for batch in range(num_batches):\n",
    "            _, loss = sess.run([treinamento, erro], feed_dict={x_ph: x_inBatches[batch]})\n",
    "        \n",
    "        if epoch % 5 == 0 or epoch == EPOCHS-1:\n",
    "            print('Epoch {}: erro: {}'.format(epoch+1, loss))\n",
    "        \n",
    "    w_final, b_final = sess.run([w, b])"
   ]
  },
  {
   "cell_type": "markdown",
   "metadata": {},
   "source": [
    "#### Codificação e Decodificação"
   ]
  },
  {
   "cell_type": "code",
   "execution_count": 35,
   "metadata": {},
   "outputs": [],
   "source": [
    "hid_layer1 = tf.nn.relu(tf.add(tf.matmul(x_ph, w_final['encoder_hidden1']), b_final['encoder_hidden1']))\n",
    "hid_layer2 = tf.nn.relu(tf.add(tf.matmul(hid_layer1, w_final['encoder_hidden2']), b_final['encoder_hidden2']))\n",
    "hid_layer3 = tf.nn.relu(tf.add(tf.matmul(hid_layer2, w_final['decoder_hidden3']), b_final['decoder_hidden3']))\n",
    "out_layer = tf.nn.relu(tf.add(tf.matmul(hid_layer3, w_final['decoder_output']), b_final['decoder_output']))"
   ]
  },
  {
   "cell_type": "code",
   "execution_count": 36,
   "metadata": {},
   "outputs": [],
   "source": [
    "with tf.Session() as sess:\n",
    "    sess.run(tf.global_variables_initializer())\n",
    "    \n",
    "    x_encoded = sess.run(hid_layer2, feed_dict={x_ph: x})\n",
    "    x_decoded = sess.run(out_layer, feed_dict={x_ph: x})"
   ]
  },
  {
   "cell_type": "code",
   "execution_count": 37,
   "metadata": {},
   "outputs": [
    {
     "data": {
      "text/plain": [
       "(60000, 64)"
      ]
     },
     "execution_count": 37,
     "metadata": {},
     "output_type": "execute_result"
    }
   ],
   "source": [
    "x_encoded.shape"
   ]
  },
  {
   "cell_type": "code",
   "execution_count": 38,
   "metadata": {},
   "outputs": [
    {
     "data": {
      "text/plain": [
       "(60000, 784)"
      ]
     },
     "execution_count": 38,
     "metadata": {},
     "output_type": "execute_result"
    }
   ],
   "source": [
    "x_decoded.shape"
   ]
  },
  {
   "cell_type": "markdown",
   "metadata": {},
   "source": [
    "#### Visualização Gráfica dos Resultados"
   ]
  },
  {
   "cell_type": "code",
   "execution_count": 39,
   "metadata": {},
   "outputs": [],
   "source": [
    "def view_result(registros):\n",
    "    for reg in registros:\n",
    "        img_orig = x[reg].reshape(28,28)\n",
    "        img_encoded = x_encoded[reg].reshape(8,8)\n",
    "        img_decoded = x_decoded[reg].reshape(28,28)\n",
    "\n",
    "        plt.figure(figsize=(6,2))\n",
    "        plt.subplot(1,3,1)\n",
    "        plt.imshow(img_orig)\n",
    "        plt.title('Classe {}'.format(y[reg]))\n",
    "        plt.xticks([])\n",
    "        plt.yticks([])\n",
    "\n",
    "        plt.subplot(1,3,2)\n",
    "        plt.imshow(img_encoded)\n",
    "        plt.title('Img Encoded')\n",
    "        plt.xticks([])\n",
    "        plt.yticks([])\n",
    "\n",
    "        plt.subplot(1,3,3)\n",
    "        plt.imshow(img_decoded)\n",
    "        plt.title('Img Decoded')\n",
    "        plt.xticks([])\n",
    "        plt.yticks([])\n",
    "\n",
    "        plt.show()"
   ]
  },
  {
   "cell_type": "code",
   "execution_count": 40,
   "metadata": {},
   "outputs": [
    {
     "name": "stdout",
     "output_type": "stream",
     "text": [
      "[22567 10080 33427 32834 18027]\n"
     ]
    },
    {
     "data": {
      "image/png": "[encoded data removed]",
      "text/plain": [
       "<Figure size 432x144 with 3 Axes>"
      ]
     },
     "metadata": {},
     "output_type": "display_data"
    },
    {
     "data": {
      "image/png": "[encoded data removed]",
      "text/plain": [
       "<Figure size 432x144 with 3 Axes>"
      ]
     },
     "metadata": {},
     "output_type": "display_data"
    },
    {
     "data": {
      "image/png": "[encoded data removed]",
      "text/plain": [
       "<Figure size 432x144 with 3 Axes>"
      ]
     },
     "metadata": {},
     "output_type": "display_data"
    },
    {
     "data": {
      "image/png": "[encoded data removed]",
      "text/plain": [
       "<Figure size 432x144 with 3 Axes>"
      ]
     },
     "metadata": {},
     "output_type": "display_data"
    },
    {
     "data": {
      "image/png": "[encoded data removed]",
      "text/plain": [
       "<Figure size 432x144 with 3 Axes>"
      ]
     },
     "metadata": {},
     "output_type": "display_data"
    }
   ],
   "source": [
    "reg = np.random.randint(0, 60000, 5)\n",
    "print(reg)\n",
    "view_result(reg)"
   ]
  }
 ],
 "metadata": {
  "kernelspec": {
   "display_name": "Python 3",
   "language": "python",
   "name": "python3"
  },
  "language_info": {
   "codemirror_mode": {
    "name": "ipython",
    "version": 3
   },
   "file_extension": ".py",
   "mimetype": "text/x-python",
   "name": "python",
   "nbconvert_exporter": "python",
   "pygments_lexer": "ipython3",
   "version": "3.7.4"
  }
 },
 "nbformat": 4,
 "nbformat_minor": 4
}
