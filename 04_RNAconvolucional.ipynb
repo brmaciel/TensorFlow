{
 "cells": [
  {
   "cell_type": "markdown",
   "metadata": {},
   "source": [
    "# Redes Neurais Convolucionais (CNN)"
   ]
  },
  {
   "cell_type": "code",
   "execution_count": 1,
   "metadata": {},
   "outputs": [
    {
     "name": "stdout",
     "output_type": "stream",
     "text": [
      "WARNING:tensorflow:From /Users/brunomaciel/opt/anaconda3/lib/python3.7/site-packages/tensorflow_core/python/compat/v2_compat.py:88: disable_resource_variables (from tensorflow.python.ops.variable_scope) is deprecated and will be removed in a future version.\n",
      "Instructions for updating:\n",
      "non-resource variables are not supported in the long term\n"
     ]
    }
   ],
   "source": [
    "# Adaptação para utilizar a sintaxe do TensorFlor 1.x no TensorFlow 2.x\n",
    "import tensorflow.compat.v1 as tf\n",
    "tf.disable_v2_behavior()"
   ]
  },
  {
   "cell_type": "code",
   "execution_count": 3,
   "metadata": {},
   "outputs": [],
   "source": [
    "import numpy as np\n",
    "import matplotlib.pyplot as plt"
   ]
  },
  {
   "cell_type": "code",
   "execution_count": 2,
   "metadata": {},
   "outputs": [
    {
     "name": "stderr",
     "output_type": "stream",
     "text": [
      "Using TensorFlow backend.\n"
     ]
    }
   ],
   "source": [
    "from keras.datasets import mnist"
   ]
  },
  {
   "cell_type": "markdown",
   "metadata": {},
   "source": [
    "<br/> \n",
    "## Classificação com Redes Neurais Convolucionais (CNN)"
   ]
  },
  {
   "cell_type": "code",
   "execution_count": 4,
   "metadata": {},
   "outputs": [],
   "source": [
    "data = mnist.load_data()"
   ]
  },
  {
   "cell_type": "code",
   "execution_count": 5,
   "metadata": {},
   "outputs": [],
   "source": [
    "x_train = np.asarray(data[0][0], dtype=np.float32) # 60k dados (28x28) de treino\n",
    "x_test = np.asarray(data[1][0], dtype=np.float32)  # 10k dados (28x28) de teste\n",
    "y_train = np.asarray(data[0][1], dtype=np.int32)\n",
    "y_test = np.asarray(data[1][1], dtype=np.int32)"
   ]
  },
  {
   "cell_type": "code",
   "execution_count": 6,
   "metadata": {},
   "outputs": [],
   "source": [
    "# Normalização\n",
    "x_train = np.array(list(map(lambda x: x / 255., [item for item in x_train])))\n",
    "x_test = np.array(list(map(lambda x: x / 255., [item for item in x_test])))"
   ]
  },
  {
   "cell_type": "code",
   "execution_count": 7,
   "metadata": {},
   "outputs": [
    {
     "data": {
      "image/png": "[encoded data removed]",
      "text/plain": [
       "<Figure size 432x288 with 1 Axes>"
      ]
     },
     "metadata": {
      "needs_background": "light"
     },
     "output_type": "display_data"
    }
   ],
   "source": [
    "reg = 89\n",
    "plt.imshow(x_train[reg], cmap='gray')\n",
    "plt.title('Classe {}'.format(y_train[reg]))\n",
    "plt.show()"
   ]
  },
  {
   "cell_type": "code",
   "execution_count": 8,
   "metadata": {},
   "outputs": [],
   "source": [
    "# É obrigatorio ter os parametros 'features', 'labels'\n",
    "def create_NN(features, labels, mode):\n",
    "    input_layer = tf.reshape(features['x'], shape=(-1,28,28,1))\n",
    "     # shape: batch_size, largura, altura, canais\n",
    "    \n",
    "    # Processos de Convolução, Pooling e Flattening\n",
    "    # input (batch_size, 28, 28, 1) -> output (batch_size, 28, 28, 32)\n",
    "    conv1 = tf.layers.conv2d(input_layer, filters=32, kernel_size=(5,5), activation=tf.nn.relu, padding='same')\n",
    "    \n",
    "    # input (batch_size, 28, 28, 32) -> output (batch_size, 14, 14, 32)\n",
    "    pool1 = tf.layers.max_pooling2d(conv1, pool_size=(2,2), strides=2)\n",
    "    \n",
    "    # input (batch_size, 14, 14, 32) -> output (batch_size, 14, 14, 64)\n",
    "    conv2 = tf.layers.conv2d(pool1, filters=64, kernel_size=(5,5), activation=tf.nn.relu, padding='same')\n",
    "    \n",
    "    # input (batch_size, 14, 14, 64) -> output (batch_size, 7, 7, 64)\n",
    "    pool2 = tf.layers.max_pooling2d(conv2, pool_size=(2,2), strides=2)\n",
    "    \n",
    "    # input (batch_size, 7, 7, 64) -> output (batch_size, 3136)\n",
    "    flat = tf.reshape(pool2, shape=(-1, 7*7*64))\n",
    "    \n",
    "    \n",
    "    # Estrutura da RNA (3136 - 1024 - 10)\n",
    "    hidden_layer = tf.layers.dense(flat, units=1024, activation=tf.nn.relu)\n",
    "    \n",
    "    dropout_layer = tf.layers.dropout(hidden_layer, rate=0.2, training= (mode == tf.estimator.ModeKeys.TRAIN))\n",
    "    # somente aplica o droput quando estiver em modo de treinamento\n",
    "    \n",
    "    output_layer = tf.layers.dense(dropout_layer, units=10)\n",
    "    \n",
    "    previsoes = tf.argmax(output_layer, axis=1)\n",
    "    \n",
    "    if mode == tf.estimator.ModeKeys.PREDICT:\n",
    "        return tf.estimator.EstimatorSpec(mode, predictions=previsoes)\n",
    "    \n",
    "    \n",
    "    erro = tf.losses.sparse_softmax_cross_entropy(labels, logits=output_layer)\n",
    "    # sparse softmax usada quando o target não passou por one_hot_encoder\n",
    "    \n",
    "    if mode == tf.estimator.ModeKeys.TRAIN:\n",
    "        otimizador = tf.train.AdamOptimizer(learning_rate=0.001)\n",
    "        treinamento = otimizador.minimize(erro, global_step=tf.train.get_global_step())\n",
    "\n",
    "        return tf.estimator.EstimatorSpec(mode, loss=erro, train_op=treinamento)\n",
    "    \n",
    "    \n",
    "                          \n",
    "    if mode == tf.estimator.ModeKeys.EVAL:\n",
    "        eval_metrics = {'accuracy' : tf.metrics.accuracy(labels, previsoes)}\n",
    "        \n",
    "        return tf.estimator.EstimatorSpec(mode, loss=erro, eval_metric_ops=eval_metrics)"
   ]
  },
  {
   "cell_type": "code",
   "execution_count": 9,
   "metadata": {},
   "outputs": [
    {
     "name": "stdout",
     "output_type": "stream",
     "text": [
      "INFO:tensorflow:Using default config.\n",
      "WARNING:tensorflow:Using temporary folder as model directory: /var/folders/ps/3gh7bfwd77b_xjwn226rnrqw0000gn/T/tmphoc81j3x\n",
      "INFO:tensorflow:Using config: {'_model_dir': '/var/folders/ps/3gh7bfwd77b_xjwn226rnrqw0000gn/T/tmphoc81j3x', '_tf_random_seed': None, '_save_summary_steps': 100, '_save_checkpoints_steps': None, '_save_checkpoints_secs': 600, '_session_config': allow_soft_placement: true\n",
      "graph_options {\n",
      "  rewrite_options {\n",
      "    meta_optimizer_iterations: ONE\n",
      "  }\n",
      "}\n",
      ", '_keep_checkpoint_max': 5, '_keep_checkpoint_every_n_hours': 10000, '_log_step_count_steps': 100, '_train_distribute': None, '_device_fn': None, '_protocol': None, '_eval_distribute': None, '_experimental_distribute': None, '_experimental_max_worker_delay_secs': None, '_session_creation_timeout_secs': 7200, '_service': None, '_cluster_spec': ClusterSpec({}), '_task_type': 'worker', '_task_id': 0, '_global_id_in_cluster': 0, '_master': '', '_evaluation_master': '', '_is_chief': True, '_num_ps_replicas': 0, '_num_worker_replicas': 1}\n"
     ]
    }
   ],
   "source": [
    "# Cria um estimator não pre-definido\n",
    "classificador = tf.estimator.Estimator(model_fn= create_NN)"
   ]
  },
  {
   "cell_type": "markdown",
   "metadata": {},
   "source": [
    "#### Processo de Treino e Teste"
   ]
  },
  {
   "cell_type": "code",
   "execution_count": 10,
   "metadata": {},
   "outputs": [],
   "source": [
    "# Cria a função de treinamento e teste\n",
    "funcao_train = tf.estimator.inputs.numpy_input_fn(x={'x': x_train}, y=y_train,\n",
    "                                                 batch_size=128, num_epochs=None, shuffle=True)\n",
    " # key 'x' deve ser identico ao definido na funcão create_NN\n",
    "\n",
    "funcao_test = tf.estimator.inputs.numpy_input_fn(x={'x': x_test}, y=y_test, num_epochs=1, shuffle=False)"
   ]
  },
  {
   "cell_type": "code",
   "execution_count": null,
   "metadata": {
    "scrolled": true
   },
   "outputs": [],
   "source": [
    "# Realiza o treinamento\n",
    "classificador.train(input_fn=funcao_train, steps=400)"
   ]
  },
  {
   "cell_type": "code",
   "execution_count": 12,
   "metadata": {},
   "outputs": [
    {
     "name": "stdout",
     "output_type": "stream",
     "text": [
      "INFO:tensorflow:Calling model_fn.\n",
      "INFO:tensorflow:Done calling model_fn.\n",
      "INFO:tensorflow:Starting evaluation at 2020-03-24T19:40:01Z\n",
      "INFO:tensorflow:Graph was finalized.\n",
      "INFO:tensorflow:Restoring parameters from /var/folders/ps/3gh7bfwd77b_xjwn226rnrqw0000gn/T/tmphoc81j3x/model.ckpt-400\n",
      "INFO:tensorflow:Running local_init_op.\n",
      "INFO:tensorflow:Done running local_init_op.\n",
      "INFO:tensorflow:Inference Time : 4.84527s\n",
      "INFO:tensorflow:Finished evaluation at 2020-03-24-19:40:05\n",
      "INFO:tensorflow:Saving dict for global step 400: accuracy = 0.9878, global_step = 400, loss = 0.035944033\n",
      "INFO:tensorflow:Saving 'checkpoint_path' summary for global step 400: /var/folders/ps/3gh7bfwd77b_xjwn226rnrqw0000gn/T/tmphoc81j3x/model.ckpt-400\n"
     ]
    },
    {
     "data": {
      "text/plain": [
       "{'accuracy': 0.9878, 'loss': 0.035944033, 'global_step': 400}"
      ]
     },
     "execution_count": 12,
     "metadata": {},
     "output_type": "execute_result"
    }
   ],
   "source": [
    "# Realiza o Teste\n",
    "precisao = classificador.evaluate(input_fn=funcao_test)\n",
    "precisao"
   ]
  },
  {
   "cell_type": "markdown",
   "metadata": {},
   "source": [
    "#### Processo de Previsão"
   ]
  },
  {
   "cell_type": "code",
   "execution_count": 13,
   "metadata": {},
   "outputs": [
    {
     "data": {
      "text/plain": [
       "(10, 784)"
      ]
     },
     "execution_count": 13,
     "metadata": {},
     "output_type": "execute_result"
    }
   ],
   "source": [
    "# Realiza a Previsão\n",
    "range_val = range(10, 20)\n",
    "x_validate = x_test[range_val]\n",
    "x_validate = x_validate.reshape(len(range_val), -1)\n",
    "x_validate.shape"
   ]
  },
  {
   "cell_type": "code",
   "execution_count": 14,
   "metadata": {},
   "outputs": [],
   "source": [
    "# Cria a função de previsão\n",
    "funcao_predict = tf.estimator.inputs.numpy_input_fn(x={'x': x_validate}, shuffle=False)"
   ]
  },
  {
   "cell_type": "code",
   "execution_count": 15,
   "metadata": {},
   "outputs": [
    {
     "name": "stdout",
     "output_type": "stream",
     "text": [
      "INFO:tensorflow:Calling model_fn.\n",
      "INFO:tensorflow:Done calling model_fn.\n",
      "INFO:tensorflow:Graph was finalized.\n",
      "INFO:tensorflow:Restoring parameters from /var/folders/ps/3gh7bfwd77b_xjwn226rnrqw0000gn/T/tmphoc81j3x/model.ckpt-400\n",
      "INFO:tensorflow:Running local_init_op.\n",
      "INFO:tensorflow:Done running local_init_op.\n"
     ]
    },
    {
     "data": {
      "text/plain": [
       "[0, 6, 9, 0, 1, 5, 9, 7, 3, 4]"
      ]
     },
     "execution_count": 15,
     "metadata": {},
     "output_type": "execute_result"
    }
   ],
   "source": [
    "previsoes = list(classificador.predict(input_fn=funcao_predict))\n",
    "previsoes"
   ]
  },
  {
   "cell_type": "code",
   "execution_count": 16,
   "metadata": {},
   "outputs": [
    {
     "name": "stdout",
     "output_type": "stream",
     "text": [
      "Esperado: [0 6 9 0 1 5 9 7 3 4]\n"
     ]
    },
    {
     "data": {
      "image/png": "[encoded data removed]",
      "text/plain": [
       "<Figure size 1152x576 with 10 Axes>"
      ]
     },
     "metadata": {
      "needs_background": "light"
     },
     "output_type": "display_data"
    }
   ],
   "source": [
    "# Verifica o Resultado da Previsão\n",
    "print('Esperado: {}'.format(y_test[range_val]))\n",
    "\n",
    "plt.figure(figsize=(16,8))\n",
    "i=1\n",
    "for img in x_validate:\n",
    "    plt.subplot(4,6,i)\n",
    "    plt.imshow(img.reshape(28,28), cmap='gray')\n",
    "    plt.title('Previsão: {}'.format(previsoes[i-1]))\n",
    "    plt.tight_layout()\n",
    "    i += 1"
   ]
  }
 ],
 "metadata": {
  "kernelspec": {
   "display_name": "Python 3",
   "language": "python",
   "name": "python3"
  },
  "language_info": {
   "codemirror_mode": {
    "name": "ipython",
    "version": 3
   },
   "file_extension": ".py",
   "mimetype": "text/x-python",
   "name": "python",
   "nbconvert_exporter": "python",
   "pygments_lexer": "ipython3",
   "version": "3.7.4"
  }
 },
 "nbformat": 4,
 "nbformat_minor": 4
}
